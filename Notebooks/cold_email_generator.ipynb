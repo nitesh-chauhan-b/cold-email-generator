{
 "cells": [
  {
   "cell_type": "markdown",
   "metadata": {},
   "source": [
    "### Cold Email\n"
   ]
  },
  {
   "cell_type": "code",
   "execution_count": 14,
   "metadata": {},
   "outputs": [
    {
     "data": {
      "text/plain": [
       "True"
      ]
     },
     "execution_count": 14,
     "metadata": {},
     "output_type": "execute_result"
    }
   ],
   "source": [
    "from langchain_groq import ChatGroq\n",
    "from dotenv import load_dotenv\n",
    "load_dotenv()"
   ]
  },
  {
   "cell_type": "code",
   "execution_count": 15,
   "metadata": {},
   "outputs": [
    {
     "name": "stdout",
     "output_type": "stream",
     "text": [
      "According to various studies and surveys, the most favorite color among humans is... (drumroll please)... BLUE!\n",
      "\n",
      "Yes, blue is the clear winner, followed closely by green, red, yellow, and purple. Here are some interesting stats to support this claim:\n",
      "\n",
      "* A 2015 survey conducted by YouGov, a global public opinion and data company, found that 42% of Americans named blue as their favorite color.\n",
      "* A 2020 survey by the Pantone Color Institute, a leading authority on color trends, reported that 45% of respondents worldwide chose blue as their favorite color.\n",
      "* A study published in the journal \"Experimental Brain Research\" in 2013 analyzed data from over 20,000 participants across 22 countries and found that blue was the most preferred color in 15 of those countries.\n",
      "\n",
      "There are several theories as to why blue is the most popular color:\n",
      "\n",
      "1. **Evolutionary advantages**: Throughout history, humans have associated blue with clean water and clear skies, which are essential for survival.\n",
      "2. **Emotional connections**: Blue is often linked to feelings of trust, loyalty, and tranquility, which are desirable emotions.\n",
      "3. **Visual appeal**: Blue is a highly visible color that stands out in our environment, making it more noticeable and memorable.\n",
      "4. **Cultural influences**: Blue is often associated with positive cultural symbols, such as the sky, the ocean, and many national flags.\n",
      "\n",
      "Of course, individual preferences may vary, and cultural differences can influence color preferences. However, overall, blue seems to be the color that resonates with the largest number of people across the globe.\n"
     ]
    }
   ],
   "source": [
    "llm = ChatGroq(\n",
    "    model =\"llama3-70b-8192\",\n",
    "    temperature=0.6,\n",
    "    max_retries=2,\n",
    "    max_tokens=2000\n",
    ")\n",
    "response = llm.invoke(\"What is the most favourate color among humans?\")\n",
    "print(response.content)"
   ]
  },
  {
   "cell_type": "markdown",
   "metadata": {},
   "source": [
    "### Webscrapping"
   ]
  },
  {
   "cell_type": "code",
   "execution_count": 16,
   "metadata": {},
   "outputs": [
    {
     "name": "stderr",
     "output_type": "stream",
     "text": [
      "USER_AGENT environment variable not set, consider setting it to identify your requests.\n"
     ]
    },
    {
     "data": {
      "text/plain": [
       "\"\\n\\n\\n\\n\\n\\n\\n\\n\\n\\n\\n\\n\\n\\n\\n\\n\\n\\n\\nSoftware Developer Intern: 2025 - US | IBM\\n\\n\\n\\n\\n\\n\\n\\n\\n\\n\\n\\n\\n\\n\\n\\n\\n\\n\\n\\n\\n\\n\\n\\n\\n\\n\\n\\n\\n\\n\\n\\n\\n\\n\\n\\n\\n\\n\\n\\n\\n\\n\\n\\n\\n\\n\\n\\n\\n \\n\\n\\n\\nSkip to content\\n\\n\\n\\nToggle NavigationIBM CareersEnglish简体中文FrançaisFrançais Canadien日本語PortuguêsEspañolDeutschIBM Careers IBM Careers      English    简体中文    Français    Français Canadien    日本語    Português    Español    Deutsch      \\n \\n\\n\\n\\n\\n\\nJob Details2024-01-04T09:25:13+00:00 \\n\\n724766BR\\n\\n\\nSoftware Developer Intern: 2025    Multiple Locations See All  San Jose  Lowell  Poughkeepsie  Austin    Software Engineering Internship   Apply now Software Developer Intern: 2025    Multiple Locations See All  San Jose  Lowell  Poughkeepsie  Austin    Software Engineering Internship   Apply now IntroductionAt IBM, work is more than a job – it’s a calling: To build. To design. To code. To consult. To think along with clients and sell. To make markets. To invent. To collaborate. Not just to do something better, but to attempt things you’ve never thought possible. Are you ready to lead in this new era of technology and solve some of the world’s most challenging problems? If so, lets talk.Your Role and ResponsibilitiesPosition starts are in Summer 2025. When working in this abstract, fast pace and continuously changing tech world, resilience, commitment, and curiosity serve as the foundation for success as an IBM Developer. You will participate in many aspects of the software development lifecycle, such as design, code implementation, testing, and support. You will work to create software that is of high quality and meets our clients’ needs. You will also have the opportunity to become a contributor within Open Source communities across multiple disciplines. In your role, you will be supported by mentors and coaches who will encourage you to challenge the norm, investigate ideas outside of your role, and come up with creative solutions resulting in ground-breaking impact for the wider business, our external clients, & their customers. Our culture of flexibility and freedom are pillars that embrace long-term career growth and learning opportunities in an environment that highlights your unique skills and experience. Who You Are:    Highly motivated and have a passion for creating and supporting great products.    Thrive on collaboration, working side by side with people of all backgrounds and disciplines, and you have very strong verbal and written communication skills.    Great at solving problems, debugging, troubleshooting, designing, and implementing solutions to complex technical issues.  Have a basic understanding of software development and programming languages.  Have the ability to learn new skills quickly and use the skills efficiently.    The positions are IBM US office-based including the following locations. Opportunities in these locations will vary based on business demand.  CA – San JoseMA – LowellTX – AustinNY – Poughkeepsie Required Technical and Professional Expertise  Programming Languages: Familiarity with one or more programming languages such as Java, Python, C++, or JavaScript. Development Tools: Experience with software development tools such as Git, IDEs (e.g., Eclipse, IntelliJ), and version control systems. Problem-Solving Skills: Strong analytical and problem-solving abilities with a keen attention to detail. Communication: Excellent verbal and written communication skills, with the ability to collaborate effectively in a team environment. Adaptability: Willingness to learn new technologies and adapt to changing project requirements. Teamwork: Ability to work both independently and as part of a collaborative team.  Preferred Technical and Professional Expertise  Frameworks and Libraries: Experience with web development frameworks (e.g., React, Angular) or mobile development (e.g., Android, iOS). Cloud Technologies: Exposure to cloud platforms such as IBM Cloud, AWS, or Azure. Database Knowledge: Basic understanding of databases, including SQL and NoSQL databases. Agile Methodology: Familiarity with Agile development practices and tools such as JIRA or Trello. Open Source Contributions: Any experience contributing to open-source projects is a plus.   Want to know what it’s like to be an IBMer?Sorry, your browser doesn't support embedded videos.About Business Unit About Business Unit IBM’s Cloud and Cognitive software business is committed to bringing the power of IBM’s Cloud and Watson/AI technologies to life for our clients and ecosystem partners around the world. IBM provides you with the most comprehensive and consistent approach to development, security and operations across hybrid environments—with complete software solutions for business and IT operations, development, data science, security, and management. Our experts and software capabilities help organizations develop applications once and deploy them anywhere, integrate security across the breadth of their IT estate, and automate operations with management visibility. With IBM, you also have access to new skills and methods, governance and management approaches, and a deep ecosystem of industry experts and partners. Your Life @ IBM Your Life @ IBM Are you craving to learn more? Prepared to solve some of the world’s most unique challenges? And ready to shape the future for millions of people? If so, then it’s time to join us, express your individuality, unleash your curiosity and discover new possibilities. Every IBMer, and potential ones like yourself, has a voice, carves their own path, and uses their expertise to help co-create and add to our story. Together, we have the power to make meaningful change – to alter the fabric of our clients, of society and IBM itself, to create a truly positive impact and make the world work better for everyone. It’s time to define your career. About IBM About IBM IBM’s greatest invention is the IBMer. We believe that through the application of intelligence, reason and science, we can improve business, society and the human condition, bringing the power of an open hybrid cloud and AI strategy to life for our clients and partners around the world. Restlessly reinventing since 1911, we are not only one of the largest corporate organizations in the world, we’re also one of the biggest technology and consulting employers, with many of the Fortune 50 companies relying on the IBM Cloud to run their business.  At IBM, we pride ourselves on being an early adopter of artificial intelligence, quantum computing and blockchain. Now it’s time for you to join us on our journey to being a responsible technology innovator and a force for good in the world. Other Relevant Job Details  Location Statement Supplemental 1 employees may be eligible for up to 8 paid holidays, minimum of 56 hours paid sick time and the IBM Employee Stock Purchase Plan. IBM offers paid family medical leave and disability benefits to eligible employees where required by applicable law.  The compensation range and benefits for this position are based on a full-time schedule for a full calendar year. The salary will vary depending on your job-related skills, experience and location. Pay increment and frequency of pay will be in accordance with employment classification and applicable laws. For part time roles, your compensation and benefits will be adjusted to reflect your hours. Benefits may be pro-rated for those who start working during the calendar year.  This position was posted on the date cited in the key job details section and is anticipated to remain posted for 21 days from this date or less if not needed to fill the role.  IBM will not be providing visa sponsorship for this position now or in the future.  Therefore, in order to be considered for this position, you must have the ability to work without a need for current or future visa sponsorship.  We consider qualified applicants with criminal histories, consistent with applicable law. Being You @ IBM Being You @ IBM IBM is committed to creating a diverse environment and is proud to be an equal-opportunity employer. All qualified applicants will receive consideration for employment without regard to race, color, religion, sex, gender, gender identity or expression, sexual orientation, national origin, caste, genetics, pregnancy, disability, neurodivergence, age, veteran status, or other characteristics. IBM is also committed to compliance with all fair employment practices regarding citizenship and immigration status. Key Job Details Role:Software Developer Intern: 2025 Location: Multiple Locations See All San Jose Lowell Poughkeepsie Austin  Category:Software Engineering Employment Type:Full-time OR Part-time Travel Required:Up to 20% or 1 day a week Contract Type:Internship Company:(0147) International Business Machines Corporation Req ID:724766BR   Projected Minimum Salary:$71,280 per year Projected Maximum Salary:$71,280-$130,680/year per year Date Posted:February 7, 2025  Apply now Don’t see a fit at this time?Don’t worry. Join our Talent Network and get notified about the latest opportunities. Join Talent Network >  \\n\\n\\n\\n \\n \\nApplication InfoApplication FAQPrivacy StatementLearn more about IBM          Contact IBM Privacy Terms of use Accessibility \\n\\n \\n \\nPage load link\\n\\n\\n\\n\\n\\n\\n\\n\\n\\n\\n\\n\\n\\n\\n\\n\\n\\n\\n\\n\\n\\n\\n\\n\\n\\n\\n\\n\\n\\n\\n\\n\\n\\n\\n\\n\\n\\n\\n\\n\\n\\n\\n0.057059049606323s Specific job #20978143 - https://jobsapi-internal.m-cloud.io/api/job?jobid=20978143 \\n\\n\\n\""
      ]
     },
     "execution_count": 16,
     "metadata": {},
     "output_type": "execute_result"
    }
   ],
   "source": [
    "#web scrapping\n",
    "from langchain_community.document_loaders import WebBaseLoader\n",
    "\n",
    "loader = WebBaseLoader(web_path=\"https://careers.ibm.com/job/20978143/software-developer-intern-2025-san-jose-ca/?codes=WEB_Search_INDIA\")\n",
    "\n",
    "page_data = loader.load().pop().page_content\n",
    "page_data\n"
   ]
  },
  {
   "cell_type": "markdown",
   "metadata": {},
   "source": [
    "### Converting it into JSON"
   ]
  },
  {
   "cell_type": "code",
   "execution_count": 17,
   "metadata": {},
   "outputs": [],
   "source": [
    "#Prompt\n",
    "\n",
    "from langchain.prompts import PromptTemplate\n",
    "\n",
    "prompt_json = PromptTemplate(\n",
    "    input_variables=[\"page_data\"],\n",
    "    template=\"\"\"\n",
    "        You Are a a Cold Email Generator Assiatant. Who's job is to generate a cold emails based on the documents provided by the user.\n",
    "        Task : Your task is to analiyze whole document provided to you and generate a JSON Fileds.\n",
    "        Which Are : job_title,required_skills,preferred_skills,exerience,job_description\n",
    "\n",
    "        The Above Filed are the must fileds. Which you have to generate. \n",
    "\n",
    "        Apart, from this you can generate some additional fields into a json which seems to be important for writing a email for job. But, the specifiled fileds are the must ones.\n",
    "\n",
    "        ## NO PREAMBLE\n",
    "        ## ONLY RETURN VALID JSON\n",
    "\n",
    "        The document is given below,\n",
    "        {page_data}\n",
    "\n",
    "        Do not include heading. Not even anything apart from JSON reponse(nothing else).\n",
    "    \"\"\"\n",
    ")\n",
    "\n",
    "\n",
    "\n"
   ]
  },
  {
   "cell_type": "code",
   "execution_count": 18,
   "metadata": {},
   "outputs": [
    {
     "name": "stdout",
     "output_type": "stream",
     "text": [
      "{\n",
      "\"job_title\": \"Software Developer Intern: 2025\",\n",
      "\"required_skills\": [\"Programming Languages: Familiarity with one or more programming languages such as Java, Python, C++, or JavaScript\", \"Development Tools: Experience with software development tools such as Git, IDEs (e.g., Eclipse, IntelliJ), and version control systems\", \"Problem-Solving Skills: Strong analytical and problem-solving abilities with a keen attention to detail\", \"Communication: Excellent verbal and written communication skills, with the ability to collaborate effectively in a team environment\", \"Adaptability: Willingness to learn new technologies and adapt to changing project requirements\", \"Teamwork: Ability to work both independently and as part of a collaborative team\"],\n",
      "\"preferred_skills\": [\"Frameworks and Libraries: Experience with web development frameworks (e.g., React, Angular) or mobile development (e.g., Android, iOS)\", \"Cloud Technologies: Exposure to cloud platforms such as IBM Cloud, AWS, or Azure\", \"Database Knowledge: Basic understanding of databases, including SQL and NoSQL databases\", \"Agile Methodology: Familiarity with Agile development practices and tools such as JIRA or Trello\", \"Open Source Contributions: Any experience contributing to open-source projects is a plus\"],\n",
      "\"experience\": \"Internship\",\n",
      "\"job_description\": \"As an IBM Developer, you will participate in many aspects of the software development lifecycle, such as design, code implementation, testing, and support. You will work to create software that is of high quality and meets our clients’ needs. You will also have the opportunity to become a contributor within Open Source communities across multiple disciplines.\"\n",
      "}\n"
     ]
    }
   ],
   "source": [
    "#Calling llm though chian \n",
    "json_data = prompt_json | llm\n",
    "json_response = json_data.invoke(input={\"page_data\":page_data}).content\n",
    "print(json_response)"
   ]
  },
  {
   "cell_type": "code",
   "execution_count": 19,
   "metadata": {},
   "outputs": [
    {
     "data": {
      "text/plain": [
       "str"
      ]
     },
     "execution_count": 19,
     "metadata": {},
     "output_type": "execute_result"
    }
   ],
   "source": [
    "type(json_response)"
   ]
  },
  {
   "cell_type": "code",
   "execution_count": 20,
   "metadata": {},
   "outputs": [],
   "source": [
    "#Converting the JSON str response into JSON\n",
    "from langchain_core.output_parsers import JsonOutputParser\n",
    "\n",
    "json_parser = JsonOutputParser()\n",
    "\n",
    "json_page_data =  json_parser.parse(json_response)"
   ]
  },
  {
   "cell_type": "code",
   "execution_count": 21,
   "metadata": {},
   "outputs": [
    {
     "data": {
      "text/plain": [
       "dict"
      ]
     },
     "execution_count": 21,
     "metadata": {},
     "output_type": "execute_result"
    }
   ],
   "source": [
    "type(json_page_data)"
   ]
  },
  {
   "cell_type": "markdown",
   "metadata": {},
   "source": [
    "### Reading Company Details\n"
   ]
  },
  {
   "cell_type": "code",
   "execution_count": 22,
   "metadata": {},
   "outputs": [
    {
     "data": {
      "text/html": [
       "<div>\n",
       "<style scoped>\n",
       "    .dataframe tbody tr th:only-of-type {\n",
       "        vertical-align: middle;\n",
       "    }\n",
       "\n",
       "    .dataframe tbody tr th {\n",
       "        vertical-align: top;\n",
       "    }\n",
       "\n",
       "    .dataframe thead th {\n",
       "        text-align: right;\n",
       "    }\n",
       "</style>\n",
       "<table border=\"1\" class=\"dataframe\">\n",
       "  <thead>\n",
       "    <tr style=\"text-align: right;\">\n",
       "      <th></th>\n",
       "      <th>Techstack</th>\n",
       "      <th>Links</th>\n",
       "    </tr>\n",
       "  </thead>\n",
       "  <tbody>\n",
       "    <tr>\n",
       "      <th>0</th>\n",
       "      <td>React, Node.js, MongoDB</td>\n",
       "      <td>https://example.com/react-portfolio</td>\n",
       "    </tr>\n",
       "    <tr>\n",
       "      <th>1</th>\n",
       "      <td>Angular,.NET, SQL Server</td>\n",
       "      <td>https://example.com/angular-portfolio</td>\n",
       "    </tr>\n",
       "    <tr>\n",
       "      <th>2</th>\n",
       "      <td>Vue.js, Ruby on Rails, PostgreSQL</td>\n",
       "      <td>https://example.com/vue-portfolio</td>\n",
       "    </tr>\n",
       "    <tr>\n",
       "      <th>3</th>\n",
       "      <td>Python, Django, MySQL</td>\n",
       "      <td>https://example.com/python-portfolio</td>\n",
       "    </tr>\n",
       "    <tr>\n",
       "      <th>4</th>\n",
       "      <td>Java, Spring Boot, Oracle</td>\n",
       "      <td>https://example.com/java-portfolio</td>\n",
       "    </tr>\n",
       "    <tr>\n",
       "      <th>5</th>\n",
       "      <td>Flutter, Firebase, GraphQL</td>\n",
       "      <td>https://example.com/flutter-portfolio</td>\n",
       "    </tr>\n",
       "    <tr>\n",
       "      <th>6</th>\n",
       "      <td>WordPress, PHP, MySQL</td>\n",
       "      <td>https://example.com/wordpress-portfolio</td>\n",
       "    </tr>\n",
       "    <tr>\n",
       "      <th>7</th>\n",
       "      <td>Magento, PHP, MySQL</td>\n",
       "      <td>https://example.com/magento-portfolio</td>\n",
       "    </tr>\n",
       "    <tr>\n",
       "      <th>8</th>\n",
       "      <td>React Native, Node.js, MongoDB</td>\n",
       "      <td>https://example.com/react-native-portfolio</td>\n",
       "    </tr>\n",
       "    <tr>\n",
       "      <th>9</th>\n",
       "      <td>iOS, Swift, Core Data</td>\n",
       "      <td>https://example.com/ios-portfolio</td>\n",
       "    </tr>\n",
       "    <tr>\n",
       "      <th>10</th>\n",
       "      <td>Android, Java, Room Persistence</td>\n",
       "      <td>https://example.com/android-portfolio</td>\n",
       "    </tr>\n",
       "    <tr>\n",
       "      <th>11</th>\n",
       "      <td>Kotlin, Android, Firebase</td>\n",
       "      <td>https://example.com/kotlin-android-portfolio</td>\n",
       "    </tr>\n",
       "    <tr>\n",
       "      <th>12</th>\n",
       "      <td>Android TV, Kotlin, Android NDK</td>\n",
       "      <td>https://example.com/android-tv-portfolio</td>\n",
       "    </tr>\n",
       "    <tr>\n",
       "      <th>13</th>\n",
       "      <td>iOS, Swift, ARKit</td>\n",
       "      <td>https://example.com/ios-ar-portfolio</td>\n",
       "    </tr>\n",
       "    <tr>\n",
       "      <th>14</th>\n",
       "      <td>Cross-platform, Xamarin, Azure</td>\n",
       "      <td>https://example.com/xamarin-portfolio</td>\n",
       "    </tr>\n",
       "    <tr>\n",
       "      <th>15</th>\n",
       "      <td>Backend, Kotlin, Spring Boot</td>\n",
       "      <td>https://example.com/kotlin-backend-portfolio</td>\n",
       "    </tr>\n",
       "    <tr>\n",
       "      <th>16</th>\n",
       "      <td>Frontend, TypeScript, Angular</td>\n",
       "      <td>https://example.com/typescript-frontend-portfolio</td>\n",
       "    </tr>\n",
       "    <tr>\n",
       "      <th>17</th>\n",
       "      <td>Full-stack, JavaScript, Express.js</td>\n",
       "      <td>https://example.com/full-stack-js-portfolio</td>\n",
       "    </tr>\n",
       "    <tr>\n",
       "      <th>18</th>\n",
       "      <td>Machine Learning, Python, TensorFlow</td>\n",
       "      <td>https://example.com/ml-python-portfolio</td>\n",
       "    </tr>\n",
       "    <tr>\n",
       "      <th>19</th>\n",
       "      <td>DevOps, Jenkins, Docker</td>\n",
       "      <td>https://example.com/devops-portfolio</td>\n",
       "    </tr>\n",
       "  </tbody>\n",
       "</table>\n",
       "</div>"
      ],
      "text/plain": [
       "                               Techstack  \\\n",
       "0                React, Node.js, MongoDB   \n",
       "1               Angular,.NET, SQL Server   \n",
       "2      Vue.js, Ruby on Rails, PostgreSQL   \n",
       "3                  Python, Django, MySQL   \n",
       "4              Java, Spring Boot, Oracle   \n",
       "5             Flutter, Firebase, GraphQL   \n",
       "6                  WordPress, PHP, MySQL   \n",
       "7                    Magento, PHP, MySQL   \n",
       "8         React Native, Node.js, MongoDB   \n",
       "9                  iOS, Swift, Core Data   \n",
       "10       Android, Java, Room Persistence   \n",
       "11             Kotlin, Android, Firebase   \n",
       "12       Android TV, Kotlin, Android NDK   \n",
       "13                     iOS, Swift, ARKit   \n",
       "14        Cross-platform, Xamarin, Azure   \n",
       "15          Backend, Kotlin, Spring Boot   \n",
       "16         Frontend, TypeScript, Angular   \n",
       "17    Full-stack, JavaScript, Express.js   \n",
       "18  Machine Learning, Python, TensorFlow   \n",
       "19               DevOps, Jenkins, Docker   \n",
       "\n",
       "                                                Links  \n",
       "0                 https://example.com/react-portfolio  \n",
       "1               https://example.com/angular-portfolio  \n",
       "2                   https://example.com/vue-portfolio  \n",
       "3                https://example.com/python-portfolio  \n",
       "4                  https://example.com/java-portfolio  \n",
       "5               https://example.com/flutter-portfolio  \n",
       "6             https://example.com/wordpress-portfolio  \n",
       "7               https://example.com/magento-portfolio  \n",
       "8          https://example.com/react-native-portfolio  \n",
       "9                   https://example.com/ios-portfolio  \n",
       "10              https://example.com/android-portfolio  \n",
       "11       https://example.com/kotlin-android-portfolio  \n",
       "12           https://example.com/android-tv-portfolio  \n",
       "13               https://example.com/ios-ar-portfolio  \n",
       "14              https://example.com/xamarin-portfolio  \n",
       "15       https://example.com/kotlin-backend-portfolio  \n",
       "16  https://example.com/typescript-frontend-portfolio  \n",
       "17        https://example.com/full-stack-js-portfolio  \n",
       "18            https://example.com/ml-python-portfolio  \n",
       "19               https://example.com/devops-portfolio  "
      ]
     },
     "execution_count": 22,
     "metadata": {},
     "output_type": "execute_result"
    }
   ],
   "source": [
    "import pandas as pd\n",
    "\n",
    "company_data = pd.read_csv(\"my_portfolio.csv\")\n",
    "\n",
    "company_data"
   ]
  },
  {
   "cell_type": "markdown",
   "metadata": {},
   "source": [
    "### Inserting Data into chromadb"
   ]
  },
  {
   "cell_type": "code",
   "execution_count": 23,
   "metadata": {},
   "outputs": [],
   "source": [
    "from langchain_community.vectorstores import Chroma\n",
    "import chromadb\n",
    "import uuid\n",
    "#Creating a client\n",
    "client = chromadb.PersistentClient(\"cold_email_DB\")\n",
    "\n",
    "#Creating Collection\n",
    "collection = client.get_or_create_collection(\"company_details\")\n",
    "\n",
    "#Adding data\n",
    "if not collection.count():\n",
    "    for _,row in company_data.iterrows():\n",
    "        collection.add(\n",
    "            documents=row[\"Techstack\"],\n",
    "            metadatas={\"links\":row[\"Links\"]},\n",
    "            ids =[str(uuid.uuid4())]\n",
    "        )\n"
   ]
  },
  {
   "cell_type": "code",
   "execution_count": 47,
   "metadata": {},
   "outputs": [
    {
     "data": {
      "text/plain": [
       "[[{'links': 'https://example.com/ml-python-portfolio'},\n",
       "  {'links': 'https://example.com/python-portfolio'},\n",
       "  {'links': 'https://example.com/full-stack-js-portfolio'}],\n",
       " [{'links': 'https://example.com/devops-portfolio'},\n",
       "  {'links': 'https://example.com/magento-portfolio'},\n",
       "  {'links': 'https://example.com/ios-ar-portfolio'}],\n",
       " [{'links': 'https://example.com/ml-python-portfolio'},\n",
       "  {'links': 'https://example.com/full-stack-js-portfolio'},\n",
       "  {'links': 'https://example.com/python-portfolio'}],\n",
       " [{'links': 'https://example.com/android-portfolio'},\n",
       "  {'links': 'https://example.com/kotlin-backend-portfolio'},\n",
       "  {'links': 'https://example.com/kotlin-android-portfolio'}],\n",
       " [{'links': 'https://example.com/ml-python-portfolio'},\n",
       "  {'links': 'https://example.com/ios-ar-portfolio'},\n",
       "  {'links': 'https://example.com/android-portfolio'}],\n",
       " [{'links': 'https://example.com/devops-portfolio'},\n",
       "  {'links': 'https://example.com/wordpress-portfolio'},\n",
       "  {'links': 'https://example.com/ios-ar-portfolio'}]]"
      ]
     },
     "execution_count": 47,
     "metadata": {},
     "output_type": "execute_result"
    }
   ],
   "source": [
    "#Getting data from collection \n",
    "links = collection.query(\n",
    "    query_texts=jobs[\"required_skills\"],\n",
    "    n_results=3\n",
    ")[\"metadatas\"]\n",
    "links"
   ]
  },
  {
   "cell_type": "code",
   "execution_count": 25,
   "metadata": {},
   "outputs": [
    {
     "data": {
      "text/plain": [
       "['Programming Languages: Familiarity with one or more programming languages such as Java, Python, C++, or JavaScript',\n",
       " 'Development Tools: Experience with software development tools such as Git, IDEs (e.g., Eclipse, IntelliJ), and version control systems',\n",
       " 'Problem-Solving Skills: Strong analytical and problem-solving abilities with a keen attention to detail',\n",
       " 'Communication: Excellent verbal and written communication skills, with the ability to collaborate effectively in a team environment',\n",
       " 'Adaptability: Willingness to learn new technologies and adapt to changing project requirements',\n",
       " 'Teamwork: Ability to work both independently and as part of a collaborative team']"
      ]
     },
     "execution_count": 25,
     "metadata": {},
     "output_type": "execute_result"
    }
   ],
   "source": [
    "#Creating a job \n",
    "jobs = json_page_data\n",
    "jobs[\"required_skills\"]"
   ]
  },
  {
   "cell_type": "code",
   "execution_count": 48,
   "metadata": {},
   "outputs": [],
   "source": [
    "#Prompt template for generating emailS\n",
    "from langchain.prompts import PromptTemplate\n",
    "\n",
    "prompt_email = PromptTemplate(\n",
    "    input_variables=[\"page_data\",\"company_name\",\"link_list\"],\n",
    "    template=\"\"\"\n",
    "    ### JOB DESCRIPTION\n",
    "    {page_data}\n",
    "\n",
    "    ### INSTRUCTIONS\n",
    "    You task is to generate a professional cold email based on the given JSON file.\n",
    "\n",
    "    {company_name} Which is service based company and would like client to hire them for the job.\n",
    "    This company has a 12+ years of experience in development. Is one of the best known for thiet service.\n",
    "    It should be a best combination of professional and marketing email.\n",
    "    The cold email must be professional email from companay {company_name}.\n",
    "\n",
    "    Also add most relevent links from the following to show case {company_name} work {link_list}\n",
    "    \n",
    "    Information to use in case required,\n",
    "    Contact Information : info@drcsystems.com\n",
    "    Your Name : Kamal\n",
    "    Position : Marketing Department\n",
    "    \n",
    "    ## ONLY VALID INFORMATION.\n",
    "    ## EMAIL(with NO PREAMBLE)\n",
    "    \"\"\"\n",
    ")"
   ]
  },
  {
   "cell_type": "code",
   "execution_count": 49,
   "metadata": {},
   "outputs": [],
   "source": [
    "#Creating a chain \n",
    "email_chain = prompt_email | llm\n",
    "\n",
    "response = email_chain.invoke(input={\"page_data\":str(jobs),\"company_name\":\"DRC Systems India Limited.\",\"link_list\":links})"
   ]
  },
  {
   "cell_type": "code",
   "execution_count": 50,
   "metadata": {},
   "outputs": [
    {
     "name": "stdout",
     "output_type": "stream",
     "text": [
      "Here is a professional cold email based on the given JSON file:\n",
      "\n",
      "Subject: Expert Software Development Services for Your IBM Developer Needs\n",
      "\n",
      "Dear Hiring Manager,\n",
      "\n",
      "I hope this email finds you well. My name is Kamal, and I am reaching out from DRC Systems India Limited, a renowned service-based company with over 12 years of experience in software development. We specialize in providing top-notch services that cater to our clients' unique needs.\n",
      "\n",
      "We came across the job description for a Software Developer Intern: 2025 and were impressed by the requirements. Our team of experts possesses the necessary skills and experience to excel in this role. Our developers are well-versed in programming languages such as Java, Python, C++, and JavaScript, as well as development tools like Git, IDEs, and version control systems. They also possess strong analytical and problem-solving abilities, excellent communication skills, and a willingness to learn new technologies and adapt to changing project requirements.\n",
      "\n",
      "Our team has experience with various frameworks and libraries, including web development frameworks like React and Angular, as well as mobile development for Android and iOS. We are also familiar with cloud platforms such as IBM Cloud, AWS, and Azure, and have a basic understanding of databases, including SQL and NoSQL databases.\n",
      "\n",
      "We would like to showcase our expertise through our portfolios:\n",
      "\n",
      "* Machine Learning and Python: https://example.com/ml-python-portfolio\n",
      "* Full Stack JavaScript: https://example.com/full-stack-js-portfolio\n",
      "* Python Development: https://example.com/python-portfolio\n",
      "\n",
      "We believe that our team would be a great fit for this internship, and we would be delighted to discuss how we can contribute to your organization's success.\n",
      "\n",
      "If you're interested in learning more about our services, please don't hesitate to contact me at info@drcsystems.com. I look forward to the opportunity to discuss this further.\n",
      "\n",
      "Best regards,\n",
      "\n",
      "Kamal\n",
      "Marketing Department\n",
      "DRC Systems India Limited\n"
     ]
    }
   ],
   "source": [
    "print(response.content)"
   ]
  }
 ],
 "metadata": {
  "kernelspec": {
   "display_name": "cold-email",
   "language": "python",
   "name": "python3"
  },
  "language_info": {
   "codemirror_mode": {
    "name": "ipython",
    "version": 3
   },
   "file_extension": ".py",
   "mimetype": "text/x-python",
   "name": "python",
   "nbconvert_exporter": "python",
   "pygments_lexer": "ipython3",
   "version": "3.12.7"
  }
 },
 "nbformat": 4,
 "nbformat_minor": 2
}
