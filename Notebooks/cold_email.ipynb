{
 "cells": [
  {
   "cell_type": "markdown",
   "metadata": {},
   "source": [
    "## Cold Email Generator"
   ]
  },
  {
   "cell_type": "code",
   "execution_count": 3,
   "metadata": {},
   "outputs": [
    {
     "data": {
      "text/plain": [
       "True"
      ]
     },
     "execution_count": 3,
     "metadata": {},
     "output_type": "execute_result"
    }
   ],
   "source": [
    "from langchain_groq import ChatGroq\n",
    "from langchain_chroma import Chroma\n",
    "from dotenv import load_dotenv\n",
    "load_dotenv()"
   ]
  },
  {
   "cell_type": "code",
   "execution_count": null,
   "metadata": {},
   "outputs": [],
   "source": [
    "#Creating model\n",
    "llm = ChatGroq(\n",
    "    model=\"llama3-70b-8192\",\n",
    "    temperature=\"0.7\",\n",
    "    max_retries=2,\n",
    "    max_tokens=2000\n",
    ")\n",
    "# llm.invoke(\"Hello\")"
   ]
  },
  {
   "cell_type": "code",
   "execution_count": 7,
   "metadata": {},
   "outputs": [],
   "source": [
    "#Steps \n",
    "#Create a webbaseloader form document loader\n",
    "#Which, will convert data into document\n",
    "#Pass it to llm to generate important json fileds for further processing\n",
    "#Store that JSON into a vectore store\n"
   ]
  },
  {
   "cell_type": "code",
   "execution_count": 122,
   "metadata": {},
   "outputs": [
    {
     "data": {
      "text/plain": [
       "\"\\n\\n\\n\\n\\n\\n\\n\\n\\n\\n\\n\\n\\n\\n\\n\\n\\n\\n\\nSoftware Developer Intern: 2025 - US | IBM\\n\\n\\n\\n\\n\\n\\n\\n\\n\\n\\n\\n\\n\\n\\n\\n\\n\\n\\n\\n\\n\\n\\n\\n\\n\\n\\n\\n\\n\\n\\n\\n\\n\\n\\n\\n\\n\\n\\n\\n\\n\\n\\n\\n\\n\\n\\n\\n\\n \\n\\n\\n\\nSkip to content\\n\\n\\n\\nToggle NavigationIBM CareersEnglish简体中文FrançaisFrançais Canadien日本語PortuguêsEspañolDeutschIBM Careers IBM Careers      English    简体中文    Français    Français Canadien    日本語    Português    Español    Deutsch      \\n \\n\\n\\n\\n\\n\\nJob Details2024-01-04T09:25:13+00:00 \\n\\n724766BR\\n\\n\\nSoftware Developer Intern: 2025    Multiple Locations See All  San Jose  Lowell  Poughkeepsie  Austin    Software Engineering Internship   Apply now Software Developer Intern: 2025    Multiple Locations See All  San Jose  Lowell  Poughkeepsie  Austin    Software Engineering Internship   Apply now IntroductionAt IBM, work is more than a job – it’s a calling: To build. To design. To code. To consult. To think along with clients and sell. To make markets. To invent. To collaborate. Not just to do something better, but to attempt things you’ve never thought possible. Are you ready to lead in this new era of technology and solve some of the world’s most challenging problems? If so, lets talk.Your Role and ResponsibilitiesPosition starts are in Summer 2025. When working in this abstract, fast pace and continuously changing tech world, resilience, commitment, and curiosity serve as the foundation for success as an IBM Developer. You will participate in many aspects of the software development lifecycle, such as design, code implementation, testing, and support. You will work to create software that is of high quality and meets our clients’ needs. You will also have the opportunity to become a contributor within Open Source communities across multiple disciplines. In your role, you will be supported by mentors and coaches who will encourage you to challenge the norm, investigate ideas outside of your role, and come up with creative solutions resulting in ground-breaking impact for the wider business, our external clients, & their customers. Our culture of flexibility and freedom are pillars that embrace long-term career growth and learning opportunities in an environment that highlights your unique skills and experience. Who You Are:    Highly motivated and have a passion for creating and supporting great products.    Thrive on collaboration, working side by side with people of all backgrounds and disciplines, and you have very strong verbal and written communication skills.    Great at solving problems, debugging, troubleshooting, designing, and implementing solutions to complex technical issues.  Have a basic understanding of software development and programming languages.  Have the ability to learn new skills quickly and use the skills efficiently.    The positions are IBM US office-based including the following locations. Opportunities in these locations will vary based on business demand.  CA – San JoseMA – LowellTX – AustinNY – Poughkeepsie Required Technical and Professional Expertise  Programming Languages: Familiarity with one or more programming languages such as Java, Python, C++, or JavaScript. Development Tools: Experience with software development tools such as Git, IDEs (e.g., Eclipse, IntelliJ), and version control systems. Problem-Solving Skills: Strong analytical and problem-solving abilities with a keen attention to detail. Communication: Excellent verbal and written communication skills, with the ability to collaborate effectively in a team environment. Adaptability: Willingness to learn new technologies and adapt to changing project requirements. Teamwork: Ability to work both independently and as part of a collaborative team.  Preferred Technical and Professional Expertise  Frameworks and Libraries: Experience with web development frameworks (e.g., React, Angular) or mobile development (e.g., Android, iOS). Cloud Technologies: Exposure to cloud platforms such as IBM Cloud, AWS, or Azure. Database Knowledge: Basic understanding of databases, including SQL and NoSQL databases. Agile Methodology: Familiarity with Agile development practices and tools such as JIRA or Trello. Open Source Contributions: Any experience contributing to open-source projects is a plus.   Want to know what it’s like to be an IBMer?Sorry, your browser doesn't support embedded videos.About Business Unit About Business Unit IBM’s Cloud and Cognitive software business is committed to bringing the power of IBM’s Cloud and Watson/AI technologies to life for our clients and ecosystem partners around the world. IBM provides you with the most comprehensive and consistent approach to development, security and operations across hybrid environments—with complete software solutions for business and IT operations, development, data science, security, and management. Our experts and software capabilities help organizations develop applications once and deploy them anywhere, integrate security across the breadth of their IT estate, and automate operations with management visibility. With IBM, you also have access to new skills and methods, governance and management approaches, and a deep ecosystem of industry experts and partners. Your Life @ IBM Your Life @ IBM Are you craving to learn more? Prepared to solve some of the world’s most unique challenges? And ready to shape the future for millions of people? If so, then it’s time to join us, express your individuality, unleash your curiosity and discover new possibilities. Every IBMer, and potential ones like yourself, has a voice, carves their own path, and uses their expertise to help co-create and add to our story. Together, we have the power to make meaningful change – to alter the fabric of our clients, of society and IBM itself, to create a truly positive impact and make the world work better for everyone. It’s time to define your career. About IBM About IBM IBM’s greatest invention is the IBMer. We believe that through the application of intelligence, reason and science, we can improve business, society and the human condition, bringing the power of an open hybrid cloud and AI strategy to life for our clients and partners around the world. Restlessly reinventing since 1911, we are not only one of the largest corporate organizations in the world, we’re also one of the biggest technology and consulting employers, with many of the Fortune 50 companies relying on the IBM Cloud to run their business.  At IBM, we pride ourselves on being an early adopter of artificial intelligence, quantum computing and blockchain. Now it’s time for you to join us on our journey to being a responsible technology innovator and a force for good in the world. Other Relevant Job Details  Location Statement Supplemental 1 employees may be eligible for up to 8 paid holidays, minimum of 56 hours paid sick time and the IBM Employee Stock Purchase Plan. IBM offers paid family medical leave and disability benefits to eligible employees where required by applicable law.  The compensation range and benefits for this position are based on a full-time schedule for a full calendar year. The salary will vary depending on your job-related skills, experience and location. Pay increment and frequency of pay will be in accordance with employment classification and applicable laws. For part time roles, your compensation and benefits will be adjusted to reflect your hours. Benefits may be pro-rated for those who start working during the calendar year.  This position was posted on the date cited in the key job details section and is anticipated to remain posted for 21 days from this date or less if not needed to fill the role.  IBM will not be providing visa sponsorship for this position now or in the future.  Therefore, in order to be considered for this position, you must have the ability to work without a need for current or future visa sponsorship.  We consider qualified applicants with criminal histories, consistent with applicable law. Being You @ IBM Being You @ IBM IBM is committed to creating a diverse environment and is proud to be an equal-opportunity employer. All qualified applicants will receive consideration for employment without regard to race, color, religion, sex, gender, gender identity or expression, sexual orientation, national origin, caste, genetics, pregnancy, disability, neurodivergence, age, veteran status, or other characteristics. IBM is also committed to compliance with all fair employment practices regarding citizenship and immigration status. Key Job Details Role:Software Developer Intern: 2025 Location: Multiple Locations See All San Jose Lowell Poughkeepsie Austin  Category:Software Engineering Employment Type:Full-time OR Part-time Travel Required:Up to 20% or 1 day a week Contract Type:Internship Company:(0147) International Business Machines Corporation Req ID:724766BR   Projected Minimum Salary:$71,280 per year Projected Maximum Salary:$71,280-$130,680/year per year Date Posted:February 7, 2025  Apply now Don’t see a fit at this time?Don’t worry. Join our Talent Network and get notified about the latest opportunities. Join Talent Network >  \\n\\n\\n\\n \\n \\nApplication InfoApplication FAQPrivacy StatementLearn more about IBM          Contact IBM Privacy Terms of use Accessibility \\n\\n \\n \\nPage load link\\n\\n\\n\\n\\n\\n\\n\\n\\n\\n\\n\\n\\n\\n\\n\\n\\n\\n\\n\\n\\n\\n\\n\\n\\n\\n\\n\\n\\n\\n\\n\\n\\n\\n\\n\\n\\n\\n\\n\\n\\n\\n\\n0.057059049606323s Specific job #20978143 - https://jobsapi-internal.m-cloud.io/api/job?jobid=20978143 \\n\\n\\n\""
      ]
     },
     "execution_count": 122,
     "metadata": {},
     "output_type": "execute_result"
    }
   ],
   "source": [
    "from langchain_community.document_loaders import WebBaseLoader\n",
    "\n",
    "loader = WebBaseLoader(web_path=\"https://careers.ibm.com/job/20978143/software-developer-intern-2025-san-jose-ca/?codes=WEB_Search_INDIA\")\n",
    "\n",
    "page_data= loader.load().pop().page_content\n",
    "page_data"
   ]
  },
  {
   "cell_type": "markdown",
   "metadata": {},
   "source": [
    "### Creating a chain for LLM"
   ]
  },
  {
   "cell_type": "code",
   "execution_count": 126,
   "metadata": {},
   "outputs": [],
   "source": [
    "#Passing docuemnt data to llm to get the important JSON Fileds\n",
    "from langchain.prompts import PromptTemplate\n",
    "\n",
    "prompt_template_text = PromptTemplate(\n",
    "    input_variables=[\"document\",\"company_name\"],\n",
    "    template=\"\"\"\n",
    "        You Are a a Cold Email Generator Assiatant. Who's job is to generate a cold emails based on the documents provided by the user.\n",
    "        Task : Your task is to analiyze whole document provided to you and generate a JSON Fileds.\n",
    "        Which Are : job_title,required_skills,preferred_skills,exerience,job_description\n",
    "\n",
    "        The Above Filed are the must fileds. Which you have to generate. \n",
    "\n",
    "        Apart, from this you can generate some additional fields into a json which seems to be important for writing a email for job. But, the specifiled fileds are the must ones.\n",
    "\n",
    "        ## NO PREAMBLE\n",
    "        ## ONLY RETURN VALID JSON\n",
    "\n",
    "        The document is given below,\n",
    "        {document}\n",
    "\n",
    "        Do not include heading. Not even anything apart from JSON reponse(nothing else).\n",
    "    \"\"\"\n",
    ")\n",
    "\n",
    "# The sending company name is  {company_name}. Also include the company_name into json as sending_company."
   ]
  },
  {
   "cell_type": "code",
   "execution_count": null,
   "metadata": {},
   "outputs": [],
   "source": [
    "from langchain.chains import SequentialChain\n",
    "from langchain.chains import LLMChain\n",
    "\n",
    "#1st chain\n",
    "prompt_text = LLMChain(llm=llm,prompt=prompt_template_text,output_key=\"json\")\n",
    "\n",
    "#Creating a 2nd chain\n",
    "prompt_template_email = PromptTemplate(\n",
    "    input_variables=[\"json\",\"company_name\"],\n",
    "    template=\"\"\"I Have give a {json} file to you.\n",
    "    \n",
    "        You task is to generate a professional cold email based on the given JSON file.\n",
    "        \n",
    "\n",
    "        Which is service based company and would like client to hire them for the job.\n",
    "        It should be a best combination of professional and marketing email.\n",
    "        The cold email must be professional email from companay {company_name}.\n",
    "        Don't include preamble in response.\n",
    "        ## NO PREAMBLE.\n",
    "        ## ONLY VALID INFORMATION.\n",
    "    \"\"\"\n",
    ")\n",
    "# Read from json named as sending_company and write it into a from section of email.\n",
    "#2nd chain \n",
    "prompt_email = LLMChain(llm=llm,prompt=prompt_template_email,output_key=\"cold_email\")"
   ]
  },
  {
   "cell_type": "code",
   "execution_count": null,
   "metadata": {},
   "outputs": [
    {
     "name": "stdout",
     "output_type": "stream",
     "text": [
      "\n",
      "\n",
      "\u001b[1m> Entering new SequentialChain chain...\u001b[0m\n",
      "\n",
      "\u001b[1m> Finished chain.\u001b[0m\n"
     ]
    }
   ],
   "source": [
    "chain = SequentialChain(\n",
    "    chains=[prompt_text,prompt_email],\n",
    "    input_variables=[\"document\",\"company_name\"],\n",
    "    output_variables=[\"json\",\"cold_email\"],\n",
    "    verbose=True\n",
    ")\n",
    "\n",
    "#Running the chain\n",
    "response= chain({\"document\":page_data,\"company_name\":\"DRC Systems India Limited.\"})"
   ]
  },
  {
   "cell_type": "code",
   "execution_count": null,
   "metadata": {},
   "outputs": [],
   "source": [
    "print(response[\"cold_email\"])"
   ]
  },
  {
   "cell_type": "markdown",
   "metadata": {},
   "source": [
    "### Embeddings"
   ]
  },
  {
   "cell_type": "code",
   "execution_count": 127,
   "metadata": {},
   "outputs": [],
   "source": [
    "#Getting JSON Data\n",
    "\n",
    "prompt_text = prompt_template_text.format(document=page_data,company_name=\"DRC Systems India Limited.\")\n",
    "json_response = llm.invoke(prompt_text)"
   ]
  },
  {
   "cell_type": "code",
   "execution_count": 128,
   "metadata": {},
   "outputs": [
    {
     "name": "stdout",
     "output_type": "stream",
     "text": [
      "{\n",
      "\"job_title\": \"Software Developer Intern: 2025\",\n",
      "\"required_skills\": [\n",
      "    \"Familiarity with one or more programming languages such as Java, Python, C++, or JavaScript\",\n",
      "    \"Experience with software development tools such as Git, IDEs (e.g., Eclipse, IntelliJ), and version control systems\",\n",
      "    \"Strong analytical and problem-solving abilities with a keen attention to detail\",\n",
      "    \"Excellent verbal and written communication skills, with the ability to collaborate effectively in a team environment\",\n",
      "    \"Willingness to learn new technologies and adapt to changing project requirements\",\n",
      "    \"Ability to work both independently and as part of a collaborative team\"\n",
      "],\n",
      "\"preferred_skills\": [\n",
      "    \"Experience with web development frameworks (e.g., React, Angular) or mobile development (e.g., Android, iOS)\",\n",
      "    \"Exposure to cloud platforms such as IBM Cloud, AWS, or Azure\",\n",
      "    \"Basic understanding of databases, including SQL and NoSQL databases\",\n",
      "    \"Familiarity with Agile development practices and tools such as JIRA or Trello\",\n",
      "    \"Any experience contributing to open-source projects\"\n",
      "],\n",
      "\"experience\": \"Internship\",\n",
      "\"job_description\": \"As a Software Developer Intern, you will participate in many aspects of the software development lifecycle, such as design, code implementation, testing, and support. You will work to create software that is of high quality and meets our clients’ needs. You will also have the opportunity to become a contributor within Open Source communities across multiple disciplines.\"\n",
      "}\n"
     ]
    }
   ],
   "source": [
    "print(json_response.content)"
   ]
  },
  {
   "cell_type": "code",
   "execution_count": 134,
   "metadata": {},
   "outputs": [
    {
     "name": "stdout",
     "output_type": "stream",
     "text": [
      "Here is a professional cold email based on the given JSON file:\n",
      "\n",
      "Subject: Expert Software Development Services for Your Organization\n",
      "\n",
      "Dear [Hiring Manager's Name],\n",
      "\n",
      "I hope this email finds you well. My name is [Your Name] and I am reaching out from DRC Systems India Limited, a leading service-based company specializing in software development solutions.\n",
      "\n",
      "We came across your job posting for a Software Developer Intern and were impressed by your organization's commitment to delivering high-quality software solutions. Our team of expert software developers has extensive experience in developing scalable, efficient, and reliable software applications that meet our clients' needs.\n",
      "\n",
      "Our team's skills align perfectly with your requirements, including proficiency in programming languages such as Java, Python, C++, and JavaScript, as well as experience with software development tools like Git, IDEs, and version control systems. We also possess strong analytical and problem-solving abilities, excellent communication skills, and a willingness to learn new technologies and adapt to changing project requirements.\n",
      "\n",
      "In addition to our core skills, we also have expertise in web development frameworks like React and Angular, mobile development for Android and iOS, cloud platforms like IBM Cloud, AWS, and Azure, and Agile development practices using tools like JIRA and Trello.\n",
      "\n",
      "By partnering with us, you can leverage our expertise to augment your team's capabilities, accelerate project timelines, and reduce development costs. Our team is committed to delivering high-quality software solutions that meet your organization's needs.\n",
      "\n",
      "If you're interested in learning more about how we can support your software development projects, I'd be happy to set up a call to discuss further.\n",
      "\n",
      "Best regards,\n",
      "\n",
      "[Your Name]\n",
      "DRC Systems India Limited\n",
      "[Contact Information]\n"
     ]
    }
   ],
   "source": [
    "prompt_email = prompt_template_email.format(json=json_response,company_name=\"DRC Systems India Limited.\")\n",
    "\n",
    "email_response = llm.invoke(prompt_email)\n",
    "print(email_response.content)"
   ]
  },
  {
   "cell_type": "code",
   "execution_count": 100,
   "metadata": {},
   "outputs": [
    {
     "name": "stderr",
     "output_type": "stream",
     "text": [
      "/home/niteshchauhan/Desktop/tasks/Lang-chain/Projects/.venv/lib/python3.12/site-packages/tqdm/auto.py:21: TqdmWarning: IProgress not found. Please update jupyter and ipywidgets. See https://ipywidgets.readthedocs.io/en/stable/user_install.html\n",
      "  from .autonotebook import tqdm as notebook_tqdm\n"
     ]
    }
   ],
   "source": [
    "#Embedding json response \n",
    "\n",
    "from langchain_huggingface import HuggingFaceEmbeddings\n",
    "\n",
    "embeddings = HuggingFaceEmbeddings(model_name=\"sentence-transformers/all-mpnet-base-v2\")\n"
   ]
  },
  {
   "cell_type": "markdown",
   "metadata": {},
   "source": [
    "#### Chromadb"
   ]
  },
  {
   "cell_type": "code",
   "execution_count": 109,
   "metadata": {},
   "outputs": [],
   "source": [
    "from langchain_community.vectorstores import Chroma\n",
    "\n",
    "vectore_store = Chroma(\n",
    "    collection_name=\"json_data\",\n",
    "    embedding_function=embeddings,\n",
    "    persist_directory=\"./cold_email_db\"\n",
    ")\n"
   ]
  },
  {
   "cell_type": "code",
   "execution_count": 110,
   "metadata": {},
   "outputs": [
    {
     "name": "stderr",
     "output_type": "stream",
     "text": [
      "Add of existing embedding ID: json_data\n",
      "Insert of existing embedding ID: json_data\n"
     ]
    }
   ],
   "source": [
    "#Initializing Chromadb\n",
    "import chromadb\n",
    "\n",
    "#Getting chromadb from lacal storage\n",
    "persistant_client= chromadb.PersistentClient()\n",
    "\n",
    "#Getting collection \n",
    "collection = persistant_client.get_or_create_collection(\"json_data\")\n",
    "\n",
    "#Adding json data to collection\n",
    "collection.add(\n",
    "    ids=[\"json_data\"],\n",
    "    documents=[json_response.content]\n",
    ")\n",
    "\n",
    "\n",
    "#Embeding resultant data\n",
    "vectore_store_from_client = Chroma(\n",
    "    client=persistant_client,\n",
    "    collection_name=\"json_data\",\n",
    "    embedding_function=embeddings\n",
    ")"
   ]
  },
  {
   "cell_type": "code",
   "execution_count": null,
   "metadata": {},
   "outputs": [],
   "source": [
    "#Now, the vectore database is created \n",
    "#So, searching the database\n",
    "results = collection.query(\n",
    "    query_texts=[\"Skills\"],\n",
    "    n_results=1\n",
    ")\n",
    "results"
   ]
  },
  {
   "cell_type": "markdown",
   "metadata": {},
   "source": [
    "### Using chromadb for email generation."
   ]
  },
  {
   "cell_type": "code",
   "execution_count": 117,
   "metadata": {},
   "outputs": [],
   "source": [
    "#Using retriver for getting content of the email.\n",
    "retriever = vectore_store_from_client.as_retriever()"
   ]
  }
 ],
 "metadata": {
  "kernelspec": {
   "display_name": ".venv",
   "language": "python",
   "name": "python3"
  },
  "language_info": {
   "codemirror_mode": {
    "name": "ipython",
    "version": 3
   },
   "file_extension": ".py",
   "mimetype": "text/x-python",
   "name": "python",
   "nbconvert_exporter": "python",
   "pygments_lexer": "ipython3",
   "version": "3.12.7"
  }
 },
 "nbformat": 4,
 "nbformat_minor": 2
}
