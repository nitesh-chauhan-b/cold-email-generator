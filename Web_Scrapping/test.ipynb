{
 "cells": [
  {
   "cell_type": "code",
   "execution_count": 1,
   "metadata": {},
   "outputs": [],
   "source": [
    "from selenium import webdriver\n",
    "from selenium.webdriver.common.keys import Keys\n",
    "from selenium.webdriver.common.by import By\n",
    "from selenium.webdriver.support.ui import WebDriverWait\n",
    "from selenium.webdriver.support import expected_conditions as EC\n",
    "import time\n",
    "import pandas as pd\n",
    "\n",
    "\n",
    "driver = webdriver.Firefox()\n",
    "query = \"python\"\n",
    "i = 1\n",
    "link =[]\n",
    "\n",
    "for i in range(1,11):\n",
    "    url = f\"https://jobs.careers.microsoft.com/global/en/search?q={query}&l=en_us&pg={i}&pgSz=20&o=Relevance\"\n",
    "\n",
    "    driver.get(url)\n",
    "\n",
    "    wait = WebDriverWait(driver,20)\n",
    "\n",
    "    try:\n",
    "        #Finding cards\n",
    "        cards = wait.until(EC.presence_of_all_elements_located((By.CLASS_NAME,\"ms-List-cell\")))\n",
    "\n",
    "        for index in range(len(cards)):\n",
    "\n",
    "            #Reloacting the cards for getting next card in line\n",
    "            cards = wait.until(EC.presence_of_all_elements_located((By.CLASS_NAME,\"ms-List-cell\")))\n",
    "            card = cards[index]\n",
    "\n",
    "            #Getting titel\n",
    "\n",
    "            current_url = driver.current_url\n",
    "\n",
    "            card.click()\n",
    "            # wait.until(EC.presence_of_element_located((By.CLASS_NAME,\"V1_4F5i9Mw6wdP8mvFWx\")))\n",
    "            time.sleep(0.5)\n",
    "            job_link = driver.current_url\n",
    "            link.append(job_link)\n",
    "\n",
    "            driver.back()\n",
    "    except Exception as e:\n",
    "        print(\"ERROR : \",e)\n",
    "        # time.sleep(5)\n",
    "        driver.close()"
   ]
  },
  {
   "cell_type": "code",
   "execution_count": 3,
   "metadata": {},
   "outputs": [
    {
     "name": "stdout",
     "output_type": "stream",
     "text": [
      "['https://jobs.careers.microsoft.com/global/en/job/1813020/Senior-Software-Engineer', 'https://jobs.careers.microsoft.com/global/en/job/1798382/Software-Engineer-II', 'https://jobs.careers.microsoft.com/global/en/job/1811831/Senior-Software-Engineer', 'https://jobs.careers.microsoft.com/global/en/job/1809538/Software-Engineer', 'https://jobs.careers.microsoft.com/global/en/job/1796879/Software-Engineer%3A-Internship-Opportunities---Ignite-Program-for-People-with-Disabilities', 'https://jobs.careers.microsoft.com/global/en/job/1810954/Member-of-Technical-Staff%2C-AI-Pretraining-Platform', 'https://jobs.careers.microsoft.com/global/en/job/1811660/Senior-Software-Engineer', 'https://jobs.careers.microsoft.com/global/en/job/1812723/Software-Engineer-2', 'https://jobs.careers.microsoft.com/global/en/job/1796115/Principal-Security-Researcher', 'https://jobs.careers.microsoft.com/global/en/job/1805699/Software-Engineer-II', 'https://jobs.careers.microsoft.com/global/en/job/1812649/Research-Intern---Quantum-Computing-and-AI-for-Chemistry-and-Materials-Science', 'https://jobs.careers.microsoft.com/global/en/job/1787940/Software-Engineer-II', 'https://jobs.careers.microsoft.com/global/en/job/1796263/Senior-Software-Engineer', 'https://jobs.careers.microsoft.com/global/en/job/1801008/Principal-Software-Engineer', 'https://jobs.careers.microsoft.com/global/en/search?q=python&l=en_us&pg=1&pgSz=20&o=Relevance', 'https://jobs.careers.microsoft.com/global/en/job/MIC007744/Member-of-Technical-Staff-%E2%80%93-Machine-Learning-Engineer-', 'https://jobs.careers.microsoft.com/global/en/job/1812789/Senior-Software-Engineer--Growth', 'https://jobs.careers.microsoft.com/global/en/search?q=python&l=en_us&pg=1&pgSz=20&o=Relevance', 'https://jobs.careers.microsoft.com/global/en/job/1805118/Senior-Software-Engineer---Backend', 'https://jobs.careers.microsoft.com/global/en/job/1811150/Software-Engineer-II', 'https://jobs.careers.microsoft.com/global/en/job/MIC009351/Member-of-Technical-Staff---Backend-Engineer%2C-Health-AI', 'https://jobs.careers.microsoft.com/global/en/job/1812250/Software-Engineering', 'https://jobs.careers.microsoft.com/global/en/job/1806502/Principal-Software-Engineer', 'https://jobs.careers.microsoft.com/global/en/job/1797635/Senior-Software-Engineer', 'https://jobs.careers.microsoft.com/global/en/job/1811146/Principal-Software-Engineer', 'https://jobs.careers.microsoft.com/global/en/job/1812230/Principal-Software-Engineer', 'https://jobs.careers.microsoft.com/global/en/job/1744865/Software-Engineer-II---AI-Compilers', 'https://jobs.careers.microsoft.com/global/en/job/1793709/Senior-Software-Engineer', 'https://jobs.careers.microsoft.com/global/en/job/1812076/%E2%80%8B%E2%80%8BPrincipal-Engineering-Manager%E2%80%8B', 'https://jobs.careers.microsoft.com/global/en/job/1810597/Principal-Applied-Scientist', 'https://jobs.careers.microsoft.com/global/en/job/1787933/Data-Engineer', 'https://jobs.careers.microsoft.com/global/en/job/1812049/Software-Engineer-II', 'https://jobs.careers.microsoft.com/global/en/job/1806298/Researcher-Intern', 'https://jobs.careers.microsoft.com/global/en/job/1813022/Senior-Software-Engineer', 'https://jobs.careers.microsoft.com/global/en/job/1807492/Senior-Software-Engineer----Windows-AI-Agent', 'https://jobs.careers.microsoft.com/global/en/job/MIC008284/Member-of-Technical-Staff%2C-Engineering-Manager', 'https://jobs.careers.microsoft.com/global/en/job/1806380/Software-Engineer-II---AI-Compilers', 'https://jobs.careers.microsoft.com/global/en/job/1812293/Software-Engineer-II--Mobile', 'https://jobs.careers.microsoft.com/global/en/job/1810951/Member-of-Technical-Staff%2C-AI-Reinforcement-Systems', 'https://jobs.careers.microsoft.com/global/en/job/1808927/Senior-Software-Engineer', 'https://jobs.careers.microsoft.com/global/en/job/1812056/Software-Engineer-II-Full-Stack', 'https://jobs.careers.microsoft.com/global/en/job/1811718/Principal-Software-Engineer', 'https://jobs.careers.microsoft.com/global/en/job/1805120/Principal-Software-Engineer', 'https://jobs.careers.microsoft.com/global/en/search?q=python&l=en_us&pg=3&pgSz=20&o=Relevance', 'https://jobs.careers.microsoft.com/global/en/job/1811146/Principal-Software-Engineer', 'https://jobs.careers.microsoft.com/global/en/job/1812230/Principal-Software-Engineer', 'https://jobs.careers.microsoft.com/global/en/job/1793709/Senior-Software-Engineer', 'https://jobs.careers.microsoft.com/global/en/job/1812076/%E2%80%8B%E2%80%8BPrincipal-Engineering-Manager%E2%80%8B', 'https://jobs.careers.microsoft.com/global/en/job/1744865/Software-Engineer-II---AI-Compilers', 'https://jobs.careers.microsoft.com/global/en/job/1810597/Principal-Applied-Scientist', 'https://jobs.careers.microsoft.com/global/en/job/1787933/Data-Engineer', 'https://jobs.careers.microsoft.com/global/en/job/1812049/Software-Engineer-II', 'https://jobs.careers.microsoft.com/global/en/job/1806298/Researcher-Intern', 'https://jobs.careers.microsoft.com/global/en/job/1813022/Senior-Software-Engineer', 'https://jobs.careers.microsoft.com/global/en/job/1807492/Senior-Software-Engineer----Windows-AI-Agent', 'https://jobs.careers.microsoft.com/global/en/job/MIC008284/Member-of-Technical-Staff%2C-Engineering-Manager', 'https://jobs.careers.microsoft.com/global/en/job/1806380/Software-Engineer-II---AI-Compilers', 'https://jobs.careers.microsoft.com/global/en/job/1812293/Software-Engineer-II--Mobile', 'https://jobs.careers.microsoft.com/global/en/job/1808927/Senior-Software-Engineer', 'https://jobs.careers.microsoft.com/global/en/job/1810951/Member-of-Technical-Staff%2C-AI-Reinforcement-Systems', 'https://jobs.careers.microsoft.com/global/en/job/1812471/Research-Sciences-Resident-(AI-for-Good)-Intern', 'https://jobs.careers.microsoft.com/global/en/job/1807142/Principal-Researcher---Computer-Agent', 'https://jobs.careers.microsoft.com/global/en/job/1809970/Software-Engineer-II', 'https://jobs.careers.microsoft.com/global/en/job/1810934/Software-Engineer-II', 'https://jobs.careers.microsoft.com/global/en/job/1777165/Software-Engineer-II', 'https://jobs.careers.microsoft.com/global/en/job/1812451/Senior-Software-Engineer---Copilot-iOS-Development', 'https://jobs.careers.microsoft.com/global/en/job/MIC008647/Member-of-Technical-Staff---Full-Stack-Software-Engineer', 'https://jobs.careers.microsoft.com/global/en/job/MIC009214/Member-of-Technical-Staff---Engineering-Manager', 'https://jobs.careers.microsoft.com/global/en/job/1809135/Senior-Technical-Designer', 'https://jobs.careers.microsoft.com/global/en/job/1800074/Senior-Technical-Program-Manager', 'https://jobs.careers.microsoft.com/global/en/job/MIC009205/Product-Manager---Copilot', 'https://jobs.careers.microsoft.com/global/en/job/1810151/Software-Engineer---Agent-Team---Microsoft-Identity', 'https://jobs.careers.microsoft.com/global/en/job/1793574/Software-Engineering%3A-Internship-Opportunities', 'https://jobs.careers.microsoft.com/global/en/job/1804751/Senior-Software-Engineer', 'https://jobs.careers.microsoft.com/global/en/job/1811849/Senior-Software-Engineer---ML-Platform', 'https://jobs.careers.microsoft.com/global/en/job/MIC008119/Data-Analytics%2FScience-Lead', 'https://jobs.careers.microsoft.com/global/en/job/MIC008311/Principal-Product-Manager---Consumer-Copilot%2C-Productivity', 'https://jobs.careers.microsoft.com/global/en/job/1809506/Ing%C3%A9nieur-logiciel-principal-%2F-Principal-Software-Engineer', 'https://jobs.careers.microsoft.com/global/en/job/MIC007740/Member-of-Technical-Staff-Platform-Engineer', 'https://jobs.careers.microsoft.com/global/en/job/1810057/Software-Engineering-Manager', 'https://jobs.careers.microsoft.com/global/en/job/1810057/Software-Engineering-Manager', 'https://jobs.careers.microsoft.com/global/en/job/1808445/%E2%80%8B%E2%80%8BSenior-Software-Engineer%E2%80%8B', 'https://jobs.careers.microsoft.com/global/en/job/1813083/Senior-Software-Engineer', 'https://jobs.careers.microsoft.com/global/en/job/1763176/Senior-Software-Engineer', 'https://jobs.careers.microsoft.com/global/en/job/1810839/Senior-Engineer--DS%2FML', 'https://jobs.careers.microsoft.com/global/en/job/1812843/Senior-Software-Engineer', 'https://jobs.careers.microsoft.com/global/en/job/1811946/Software-Engineering', 'https://jobs.careers.microsoft.com/global/en/job/1801679/%E2%80%8B%E2%80%8BSenior-Software-Engineer%E2%80%8B', 'https://jobs.careers.microsoft.com/global/en/job/1811527/Senior-Software-Engineer--CTJ---POLY', 'https://jobs.careers.microsoft.com/global/en/job/MIC005181/Member-of-Technical-Staff%2C-Platform-Engineering-Manager', 'https://jobs.careers.microsoft.com/global/en/job/1812054/Principal-Software-Engineering-Lead', 'https://jobs.careers.microsoft.com/global/en/job/1793933/Principal-Software-Engineer', 'https://jobs.careers.microsoft.com/global/en/job/1809510/Ing%C3%A9nieur-logiciel-II-%2F-Software-Engineer-II', 'https://jobs.careers.microsoft.com/global/en/job/1762485/Software-Engineer-ll', 'https://jobs.careers.microsoft.com/global/en/job/1810511/Senior-Software-Engineer', 'https://jobs.careers.microsoft.com/global/en/job/1812124/Research-Science%3A-Internship-opportunities', 'https://jobs.careers.microsoft.com/global/en/job/1811836/Technical-Support-Engineer---Azure', 'https://jobs.careers.microsoft.com/global/en/job/1811093/Software-Engineer-II', 'https://jobs.careers.microsoft.com/global/en/job/1812033/Scientist-Robot-Learning', 'https://jobs.careers.microsoft.com/global/en/job/MIC009123/Principal-Product-Manager--Copilot', 'https://jobs.careers.microsoft.com/global/en/job/MIC009123/Principal-Product-Manager--Copilot', 'https://jobs.careers.microsoft.com/global/en/job/1812270/Vaga-Afirmativa-para-Pessoas-com-Defici%C3%AAncia---Engenheiro-de-Software-%2F-Affirmative-Job-Posting-for-People-with-Disabilities---Software-Engineer', 'https://jobs.careers.microsoft.com/global/en/search?q=python&l=en_us&pg=6&pgSz=20&o=Relevance', 'https://jobs.careers.microsoft.com/global/en/job/1812843/Senior-Software-Engineer', 'https://jobs.careers.microsoft.com/global/en/job/1763176/Senior-Software-Engineer', 'https://jobs.careers.microsoft.com/global/en/job/1810839/Senior-Engineer--DS%2FML', 'https://jobs.careers.microsoft.com/global/en/job/1801679/%E2%80%8B%E2%80%8BSenior-Software-Engineer%E2%80%8B', 'https://jobs.careers.microsoft.com/global/en/job/1811946/Software-Engineering', 'https://jobs.careers.microsoft.com/global/en/search?q=python&l=en_us&pg=5&pgSz=20&o=Relevance', 'https://jobs.careers.microsoft.com/global/en/job/1800074/Senior-Technical-Program-Manager', 'https://jobs.careers.microsoft.com/global/en/job/MIC009205/Product-Manager---Copilot', 'https://jobs.careers.microsoft.com/global/en/job/1810151/Software-Engineer---Agent-Team---Microsoft-Identity', 'https://jobs.careers.microsoft.com/global/en/job/1804751/Senior-Software-Engineer', 'https://jobs.careers.microsoft.com/global/en/job/1793574/Software-Engineering%3A-Internship-Opportunities', 'https://jobs.careers.microsoft.com/global/en/search?q=python&l=en_us&pg=4&pgSz=20&o=Relevance', 'https://jobs.careers.microsoft.com/global/en/job/MIC008284/Member-of-Technical-Staff%2C-Engineering-Manager', 'https://jobs.careers.microsoft.com/global/en/job/1806380/Software-Engineer-II---AI-Compilers', 'https://jobs.careers.microsoft.com/global/en/job/1812293/Software-Engineer-II--Mobile', 'https://jobs.careers.microsoft.com/global/en/job/1810951/Member-of-Technical-Staff%2C-AI-Reinforcement-Systems', 'https://jobs.careers.microsoft.com/global/en/job/1808927/Senior-Software-Engineer', 'https://jobs.careers.microsoft.com/global/en/job/1811901/Principal-Software-Engineering-Manager', 'https://jobs.careers.microsoft.com/global/en/job/1812956/Research-Intern---AI-for-Nursing', 'https://jobs.careers.microsoft.com/global/en/job/1806658/Reporting-%26-Data-Design-Lead', 'https://jobs.careers.microsoft.com/global/en/job/1810916/Customer-Success%3A-Full-Time-Opportunities', 'https://jobs.careers.microsoft.com/global/en/job/MIC008072/Principal-Product-Manager---Copilot-Mobile', 'https://jobs.careers.microsoft.com/global/en/search?q=python&l=en_us&pg=7&pgSz=20&o=Relevance', 'https://jobs.careers.microsoft.com/global/en/job/1744865/Software-Engineer-II---AI-Compilers', 'https://jobs.careers.microsoft.com/global/en/search?q=python&l=en_us&pg=2&pgSz=20&o=Relevance', 'https://jobs.careers.microsoft.com/global/en/job/1796115/Principal-Security-Researcher', 'https://jobs.careers.microsoft.com/global/en/job/1805699/Software-Engineer-II', 'https://jobs.careers.microsoft.com/global/en/job/1812649/Research-Intern---Quantum-Computing-and-AI-for-Chemistry-and-Materials-Science', 'https://jobs.careers.microsoft.com/global/en/job/1787940/Software-Engineer-II', 'https://jobs.careers.microsoft.com/global/en/job/1796263/Senior-Software-Engineer', 'https://jobs.careers.microsoft.com/global/en/job/1807448/Principal-Software-Engineering-Manager', 'https://jobs.careers.microsoft.com/global/en/job/1801008/Principal-Software-Engineer', 'https://jobs.careers.microsoft.com/global/en/job/1779975/Senior-Software-Engineer', 'https://jobs.careers.microsoft.com/global/en/job/1811150/Software-Engineer-II', 'https://jobs.careers.microsoft.com/global/en/job/MIC007744/Member-of-Technical-Staff-%E2%80%93-Machine-Learning-Engineer-', 'https://jobs.careers.microsoft.com/global/en/job/1812789/Senior-Software-Engineer--Growth', 'https://jobs.careers.microsoft.com/global/en/search?q=python&l=en_us&pg=1&pgSz=20&o=Relevance', 'https://jobs.careers.microsoft.com/global/en/job/1810873/Software-Engineer-%2F-Senior-Software-Engineer---Backend', 'https://jobs.careers.microsoft.com/global/en/job/1751395/Member-of-Technical-Staff---Data-Engineer', 'https://jobs.careers.microsoft.com/global/en/search?q=python&l=en_us&pg=8&pgSz=20&o=Relevance', 'https://jobs.careers.microsoft.com/global/en/job/1809538/Software-Engineer', 'https://jobs.careers.microsoft.com/global/en/job/1796879/Software-Engineer%3A-Internship-Opportunities---Ignite-Program-for-People-with-Disabilities', 'https://jobs.careers.microsoft.com/global/en/search?q=python&l=en_us&pg=1&pgSz=20&o=Relevance', 'https://jobs.careers.microsoft.com/global/en/job/1811660/Senior-Software-Engineer', 'https://jobs.careers.microsoft.com/global/en/job/1812723/Software-Engineer-2', 'https://jobs.careers.microsoft.com/global/en/job/1796115/Principal-Security-Researcher', 'https://jobs.careers.microsoft.com/global/en/job/1805699/Software-Engineer-II', 'https://jobs.careers.microsoft.com/global/en/search?q=python&l=en_us&pg=1&pgSz=20&o=Relevance', 'https://jobs.careers.microsoft.com/global/en/job/1787940/Software-Engineer-II', 'https://jobs.careers.microsoft.com/global/en/job/1796263/Senior-Software-Engineer', 'https://jobs.careers.microsoft.com/global/en/job/1801008/Principal-Software-Engineer', 'https://jobs.careers.microsoft.com/global/en/job/1807448/Principal-Software-Engineering-Manager', 'https://jobs.careers.microsoft.com/global/en/job/MIC007744/Member-of-Technical-Staff-%E2%80%93-Machine-Learning-Engineer-', 'https://jobs.careers.microsoft.com/global/en/job/1812789/Senior-Software-Engineer--Growth', 'https://jobs.careers.microsoft.com/global/en/job/1779975/Senior-Software-Engineer', 'https://jobs.careers.microsoft.com/global/en/job/1805118/Senior-Software-Engineer---Backend', 'https://jobs.careers.microsoft.com/global/en/job/1811150/Software-Engineer-II', 'https://jobs.careers.microsoft.com/global/en/job/1811568/Senior-Security-Engineer', 'https://jobs.careers.microsoft.com/global/en/job/1808972/Principal-Software-Engineer', 'https://jobs.careers.microsoft.com/global/en/job/1812121/Sr.-Cloud-Solution-Architecture-Data-%26-AI', 'https://jobs.careers.microsoft.com/global/en/job/1782318/Senior-Security-Operations-Engineer', 'https://jobs.careers.microsoft.com/global/en/job/1810333/Senior-Software-Engineer', 'https://jobs.careers.microsoft.com/global/en/job/MIC008308/Principal-Product-Manager---Copilot', 'https://jobs.careers.microsoft.com/global/en/job/1810775/Software-Engineer-II', 'https://jobs.careers.microsoft.com/global/en/job/1811144/Senior-Software-Engineer--Multiple-Roles', 'https://jobs.careers.microsoft.com/global/en/job/1806591/Software-Engineer', 'https://jobs.careers.microsoft.com/global/en/job/1812692/Support-Engineer-(Azure-DevOps-and-Developer-Support)', 'https://jobs.careers.microsoft.com/global/en/job/1731576/Senior-Machine-Learning-Engineer-%E2%80%93-Xbox-Games-Technology-Group-%E2%80%93-The-Coalition', 'https://jobs.careers.microsoft.com/global/en/search?q=python&l=en_us&pg=9&pgSz=20&o=Relevance', 'https://jobs.careers.microsoft.com/global/en/job/1796263/Senior-Software-Engineer', 'https://jobs.careers.microsoft.com/global/en/job/1807448/Principal-Software-Engineering-Manager', 'https://jobs.careers.microsoft.com/global/en/job/1801008/Principal-Software-Engineer', 'https://jobs.careers.microsoft.com/global/en/job/1779975/Senior-Software-Engineer', 'https://jobs.careers.microsoft.com/global/en/job/1811150/Software-Engineer-II', 'https://jobs.careers.microsoft.com/global/en/search?q=python&l=en_us&pg=1&pgSz=20&o=Relevance', 'https://jobs.careers.microsoft.com/global/en/job/1812789/Senior-Software-Engineer--Growth', 'https://jobs.careers.microsoft.com/global/en/job/1805118/Senior-Software-Engineer---Backend', 'https://jobs.careers.microsoft.com/global/en/job/1811962/MSTIC-Cyber-Security-Apprenticeship', 'https://jobs.careers.microsoft.com/global/en/job/MIC004762/Technical-Advisor%2C-Microsoft-AI', 'https://jobs.careers.microsoft.com/global/en/job/1810035/Software-Engineer', 'https://jobs.careers.microsoft.com/global/en/job/1787555/Senior-reliability-Engineer', 'https://jobs.careers.microsoft.com/global/en/job/1807444/Senior-Software-Engineer---CTJ---Poly', 'https://jobs.careers.microsoft.com/global/en/job/1799598/Cloud-Solution-Architect---App-Innovation', 'https://jobs.careers.microsoft.com/global/en/job/1810691/Software-Engineer', 'https://jobs.careers.microsoft.com/global/en/job/1810875/Security-Researcher', 'https://jobs.careers.microsoft.com/global/en/search?q=python&l=en_us&pg=10&pgSz=20&o=Relevance', 'https://jobs.careers.microsoft.com/global/en/job/1805699/Software-Engineer-II', 'https://jobs.careers.microsoft.com/global/en/job/1787940/Software-Engineer-II', 'https://jobs.careers.microsoft.com/global/en/job/1812649/Research-Intern---Quantum-Computing-and-AI-for-Chemistry-and-Materials-Science', 'https://jobs.careers.microsoft.com/global/en/job/1796263/Senior-Software-Engineer', 'https://jobs.careers.microsoft.com/global/en/job/1807448/Principal-Software-Engineering-Manager', 'https://jobs.careers.microsoft.com/global/en/job/1801008/Principal-Software-Engineer', 'https://jobs.careers.microsoft.com/global/en/job/1779975/Senior-Software-Engineer', 'https://jobs.careers.microsoft.com/global/en/job/1812789/Senior-Software-Engineer--Growth', 'https://jobs.careers.microsoft.com/global/en/search?q=python&l=en_us&pg=1&pgSz=20&o=Relevance', 'https://jobs.careers.microsoft.com/global/en/job/1805118/Senior-Software-Engineer---Backend', 'https://jobs.careers.microsoft.com/global/en/job/MIC009351/Member-of-Technical-Staff---Backend-Engineer%2C-Health-AI']\n"
     ]
    }
   ],
   "source": [
    "print(link)"
   ]
  },
  {
   "cell_type": "code",
   "execution_count": 4,
   "metadata": {},
   "outputs": [
    {
     "data": {
      "text/plain": [
       "200"
      ]
     },
     "execution_count": 4,
     "metadata": {},
     "output_type": "execute_result"
    }
   ],
   "source": [
    "len(link)"
   ]
  }
 ],
 "metadata": {
  "kernelspec": {
   "display_name": ".venv",
   "language": "python",
   "name": "python3"
  },
  "language_info": {
   "codemirror_mode": {
    "name": "ipython",
    "version": 3
   },
   "file_extension": ".py",
   "mimetype": "text/x-python",
   "name": "python",
   "nbconvert_exporter": "python",
   "pygments_lexer": "ipython3",
   "version": "3.12.7"
  }
 },
 "nbformat": 4,
 "nbformat_minor": 2
}
